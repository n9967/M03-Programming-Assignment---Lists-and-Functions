{
 "cells": [
  {
   "cell_type": "code",
   "execution_count": 1,
   "id": "d3db8331",
   "metadata": {},
   "outputs": [],
   "source": [
    "things = [\"mozzarella\", \"cinderella\", \"salmonella\"]\n"
   ]
  },
  {
   "cell_type": "code",
   "execution_count": 2,
   "id": "161531bc",
   "metadata": {},
   "outputs": [
    {
     "name": "stdout",
     "output_type": "stream",
     "text": [
      "['mozzarella', 'Cinderella', 'salmonella']\n"
     ]
    }
   ],
   "source": [
    "things = [\"mozzarella\", \"cinderella\", \"salmonella\"]\n",
    "\n",
    "person_index = things.index(\"cinderella\")\n",
    "\n",
    "things[person_index] = things[person_index].capitalize()\n",
    "\n",
    "# Print the updated list\n",
    "print(things)\n"
   ]
  },
  {
   "cell_type": "code",
   "execution_count": 3,
   "id": "7258ddf4",
   "metadata": {},
   "outputs": [],
   "source": [
    "#yes it does change the element in the list when printed"
   ]
  },
  {
   "cell_type": "code",
   "execution_count": 4,
   "id": "1c0b0828",
   "metadata": {},
   "outputs": [
    {
     "name": "stdout",
     "output_type": "stream",
     "text": [
      "['MOZZARELLA', 'cinderella', 'salmonella']\n"
     ]
    }
   ],
   "source": [
    "things = [\"mozzarella\", \"cinderella\", \"salmonella\"]\n",
    "\n",
    "cheesy_index = things.index(\"mozzarella\")\n",
    "\n",
    "things[cheesy_index] = things[cheesy_index].upper()\n",
    "\n",
    "# Print the updated list\n",
    "print(things)\n"
   ]
  },
  {
   "cell_type": "code",
   "execution_count": 5,
   "id": "9b17d198",
   "metadata": {},
   "outputs": [
    {
     "name": "stdout",
     "output_type": "stream",
     "text": [
      "['mozzarella', 'cinderella']\n"
     ]
    }
   ],
   "source": [
    "things = [\"mozzarella\", \"cinderella\", \"salmonella\"]\n",
    "\n",
    "# Remove the disease element\n",
    "things.remove(\"salmonella\")\n",
    "\n",
    "# Print the updated list\n",
    "print(things)\n"
   ]
  },
  {
   "cell_type": "code",
   "execution_count": 6,
   "id": "394e2f9d",
   "metadata": {},
   "outputs": [
    {
     "name": "stdout",
     "output_type": "stream",
     "text": [
      "['Harry', 'Ron', 'Hermione']\n"
     ]
    }
   ],
   "source": [
    "def good():\n",
    "    return ['Harry', 'Ron', 'Hermione']\n",
    "\n",
    "result = good()\n",
    "\n",
    "# Print the list\n",
    "print(result)\n"
   ]
  },
  {
   "cell_type": "code",
   "execution_count": 7,
   "id": "fb56be25",
   "metadata": {},
   "outputs": [
    {
     "name": "stdout",
     "output_type": "stream",
     "text": [
      "The third odd number is: 5\n"
     ]
    }
   ],
   "source": [
    "def get_odds():\n",
    "    for number in range(10):\n",
    "        if number % 2 != 0:\n",
    "            yield number\n",
    "count = 0\n",
    "for value in get_odds():\n",
    "    count += 1\n",
    "    if count == 3:\n",
    "        print(\"The third odd number is:\", value)\n",
    "        break\n"
   ]
  },
  {
   "cell_type": "code",
   "execution_count": null,
   "id": "f098664f",
   "metadata": {},
   "outputs": [],
   "source": []
  }
 ],
 "metadata": {
  "kernelspec": {
   "display_name": "Python 3 (ipykernel)",
   "language": "python",
   "name": "python3"
  },
  "language_info": {
   "codemirror_mode": {
    "name": "ipython",
    "version": 3
   },
   "file_extension": ".py",
   "mimetype": "text/x-python",
   "name": "python",
   "nbconvert_exporter": "python",
   "pygments_lexer": "ipython3",
   "version": "3.11.4"
  }
 },
 "nbformat": 4,
 "nbformat_minor": 5
}
